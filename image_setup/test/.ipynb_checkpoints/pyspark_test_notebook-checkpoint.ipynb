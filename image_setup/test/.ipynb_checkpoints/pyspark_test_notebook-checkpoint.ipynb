{
 "cells": [
  {
   "cell_type": "code",
   "execution_count": null,
   "id": "7759ff9c",
   "metadata": {},
   "outputs": [],
   "source": [
    "import os, getpass\n",
    "from pyspark.sql.types import (StructField, StructType, StringType, IntegerType)\n",
    "from pyspark.sql import SparkSession\n",
    "spark = SparkSession.builder.appName(\"ex1\").getOrCreate()\n",
    "data_dir = os.path.join('/home', getpass.getuser(), 'data')\n",
    "\n",
    "## From tuples array\n",
    "data = [(i, 'foo') for i in range(1000)]\n",
    "columns = ['id', 'txt']\n",
    "# Infer schema\n",
    "df = spark.createDataFrame(data, columns)\n",
    "df.show(10)\n",
    "\n",
    "# From CSV File\n",
    "file_name = 'AAPL.csv'\n",
    "df = spark.read.csv(os.path.join(data_dir, file_name), header=True, inferSchema=True)\n",
    "print('From CSV: appl_stock')\n",
    "df.show(10)"
   ]
  }
 ],
 "metadata": {
  "kernelspec": {
   "display_name": "Python 3 (ipykernel)",
   "language": "python",
   "name": "python3"
  },
  "language_info": {
   "codemirror_mode": {
    "name": "ipython",
    "version": 3
   },
   "file_extension": ".py",
   "mimetype": "text/x-python",
   "name": "python",
   "nbconvert_exporter": "python",
   "pygments_lexer": "ipython3",
   "version": "3.10.6"
  }
 },
 "nbformat": 4,
 "nbformat_minor": 5
}
