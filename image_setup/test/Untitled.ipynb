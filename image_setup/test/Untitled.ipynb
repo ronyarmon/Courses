{
 "cells": [
  {
   "cell_type": "code",
   "execution_count": null,
   "id": "9852d593",
   "metadata": {},
   "outputs": [],
   "source": [
    "import pandas as pd\n",
    "import numpy as np\n",
    "from scipy.stats import zscore\n",
    "import matplotlib.pyplot as plt\n",
    "import seaborn as sns\n",
    "import random\n",
    "import folium\n",
    "import os\n",
    "if 'results' in os.listdir(): os.remove('results')\n",
    "os.mkdir('results')\n",
    "\n",
    "'''\n",
    "Source: https://www.kaggle.com/competitions/store-sales-time-series-forecasting\n",
    "Dataset: train.csv\n",
    "store_nbr: the store at which the products are sold.\n",
    "family: the type of product sold.\n",
    "sales: the total sales for a product family at a particular store at a given date. \n",
    "Fractional values are possible since products can be sold in fractional units \n",
    "(1.5 kg of cheese, for instance, as opposed to 1 bag of chips).\n",
    "onpromotion: the total number of items in a product family that were being promoted at a store at a given date.\n",
    "'''\n",
    "print('Pandas dataframe: Sales data')\n",
    "sales = pd.read_csv('../../data/sales.csv.zip')\n",
    "sales = sales.rename(columns={'family':'product_type', 'store_nbr': 'store_id'})\n",
    "# Remove product categories\n",
    "categories = ['GROCERY I', 'GROCERY II', 'HOME AND KITCHEN I', 'HOME AND KITCHEN II']\n",
    "sales = sales[~sales['product_type'].isin(categories)]\n",
    "print(sales.head())"
   ]
  }
 ],
 "metadata": {
  "kernelspec": {
   "display_name": "Python 3 (ipykernel)",
   "language": "python",
   "name": "python3"
  },
  "language_info": {
   "codemirror_mode": {
    "name": "ipython",
    "version": 3
   },
   "file_extension": ".py",
   "mimetype": "text/x-python",
   "name": "python",
   "nbconvert_exporter": "python",
   "pygments_lexer": "ipython3",
   "version": "3.10.6"
  }
 },
 "nbformat": 4,
 "nbformat_minor": 5
}
